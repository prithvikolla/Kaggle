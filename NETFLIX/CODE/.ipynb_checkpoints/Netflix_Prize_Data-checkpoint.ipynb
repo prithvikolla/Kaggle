{
 "cells": [
  {
   "cell_type": "markdown",
   "metadata": {
    "colab_type": "text",
    "id": "view-in-github"
   },
   "source": [
    "<a href=\"https://colab.research.google.com/github/prithvikolla/Kaggle-challenges/blob/master/Netflix_Prize_Data.ipynb\" target=\"_parent\"><img src=\"https://colab.research.google.com/assets/colab-badge.svg\" alt=\"Open In Colab\"/></a>"
   ]
  },
  {
   "cell_type": "markdown",
   "metadata": {
    "colab_type": "text",
    "id": "iptn8taXOfvW"
   },
   "source": [
    "# EXPLORATORY DATA ANALYSIS\n",
    "# DATA CLEANING\n",
    "# DATA MAPPING\n",
    "# DATA VISUALIZATION"
   ]
  },
  {
   "cell_type": "markdown",
   "metadata": {
    "colab_type": "text",
    "id": "2RA0ZUmebRAz"
   },
   "source": [
    "We import pandas library to do exploratory data analysis and visualization"
   ]
  },
  {
   "cell_type": "code",
   "execution_count": 0,
   "metadata": {
    "colab": {},
    "colab_type": "code",
    "id": "86AYyRc75dzb"
   },
   "outputs": [],
   "source": [
    "import pandas as pd"
   ]
  },
  {
   "cell_type": "markdown",
   "metadata": {
    "colab_type": "text",
    "id": "eXed04Otbb-m"
   },
   "source": [
    "Since the file \"movie_titles.csv\" does not contain any column names i had to give it manually. and we should use encoding = \"ISO-8859-1\" to read the csv file or else we encounter error."
   ]
  },
  {
   "cell_type": "code",
   "execution_count": 0,
   "metadata": {
    "colab": {},
    "colab_type": "code",
    "id": "FXEcg3p0FEjz"
   },
   "outputs": [],
   "source": [
    "columnNames = ['YEAR','MOVIE']\n",
    "MT = pd.read_csv(\"/content/movie_titles.csv\",names= columnNames,encoding = \"ISO-8859-1\")"
   ]
  },
  {
   "cell_type": "markdown",
   "metadata": {
    "colab_type": "text",
    "id": "HXfee1-Vb4k_"
   },
   "source": [
    "In order to observe the first 20 records of the file \"movie_titles.csv\" we use head() function"
   ]
  },
  {
   "cell_type": "code",
   "execution_count": 0,
   "metadata": {
    "colab": {
     "base_uri": "https://localhost:8080/",
     "height": 669
    },
    "colab_type": "code",
    "id": "taTShMIDWonV",
    "outputId": "dde15276-f56a-42cd-d52c-e8ab71382034"
   },
   "outputs": [
    {
     "data": {
      "text/html": [
       "<div>\n",
       "<style scoped>\n",
       "    .dataframe tbody tr th:only-of-type {\n",
       "        vertical-align: middle;\n",
       "    }\n",
       "\n",
       "    .dataframe tbody tr th {\n",
       "        vertical-align: top;\n",
       "    }\n",
       "\n",
       "    .dataframe thead th {\n",
       "        text-align: right;\n",
       "    }\n",
       "</style>\n",
       "<table border=\"1\" class=\"dataframe\">\n",
       "  <thead>\n",
       "    <tr style=\"text-align: right;\">\n",
       "      <th></th>\n",
       "      <th>YEAR</th>\n",
       "      <th>MOVIE</th>\n",
       "    </tr>\n",
       "  </thead>\n",
       "  <tbody>\n",
       "    <tr>\n",
       "      <th>1</th>\n",
       "      <td>2003.0</td>\n",
       "      <td>Dinosaur Planet</td>\n",
       "    </tr>\n",
       "    <tr>\n",
       "      <th>2</th>\n",
       "      <td>2004.0</td>\n",
       "      <td>Isle of Man TT 2004 Review</td>\n",
       "    </tr>\n",
       "    <tr>\n",
       "      <th>3</th>\n",
       "      <td>1997.0</td>\n",
       "      <td>Character</td>\n",
       "    </tr>\n",
       "    <tr>\n",
       "      <th>4</th>\n",
       "      <td>1994.0</td>\n",
       "      <td>Paula Abdul's Get Up &amp; Dance</td>\n",
       "    </tr>\n",
       "    <tr>\n",
       "      <th>5</th>\n",
       "      <td>2004.0</td>\n",
       "      <td>The Rise and Fall of ECW</td>\n",
       "    </tr>\n",
       "    <tr>\n",
       "      <th>6</th>\n",
       "      <td>1997.0</td>\n",
       "      <td>Sick</td>\n",
       "    </tr>\n",
       "    <tr>\n",
       "      <th>7</th>\n",
       "      <td>1992.0</td>\n",
       "      <td>8 Man</td>\n",
       "    </tr>\n",
       "    <tr>\n",
       "      <th>8</th>\n",
       "      <td>2004.0</td>\n",
       "      <td>What the #$*! Do We Know!?</td>\n",
       "    </tr>\n",
       "    <tr>\n",
       "      <th>9</th>\n",
       "      <td>1991.0</td>\n",
       "      <td>Class of Nuke 'Em High 2</td>\n",
       "    </tr>\n",
       "    <tr>\n",
       "      <th>10</th>\n",
       "      <td>2001.0</td>\n",
       "      <td>Fighter</td>\n",
       "    </tr>\n",
       "    <tr>\n",
       "      <th>11</th>\n",
       "      <td>1999.0</td>\n",
       "      <td>Full Frame: Documentary Shorts</td>\n",
       "    </tr>\n",
       "    <tr>\n",
       "      <th>12</th>\n",
       "      <td>1947.0</td>\n",
       "      <td>My Favorite Brunette</td>\n",
       "    </tr>\n",
       "    <tr>\n",
       "      <th>13</th>\n",
       "      <td>2003.0</td>\n",
       "      <td>Lord of the Rings: The Return of the King: Ext...</td>\n",
       "    </tr>\n",
       "    <tr>\n",
       "      <th>14</th>\n",
       "      <td>1982.0</td>\n",
       "      <td>Nature: Antarctica</td>\n",
       "    </tr>\n",
       "    <tr>\n",
       "      <th>15</th>\n",
       "      <td>1988.0</td>\n",
       "      <td>Neil Diamond: Greatest Hits Live</td>\n",
       "    </tr>\n",
       "    <tr>\n",
       "      <th>16</th>\n",
       "      <td>1996.0</td>\n",
       "      <td>Screamers</td>\n",
       "    </tr>\n",
       "    <tr>\n",
       "      <th>17</th>\n",
       "      <td>2005.0</td>\n",
       "      <td>7 Seconds</td>\n",
       "    </tr>\n",
       "    <tr>\n",
       "      <th>18</th>\n",
       "      <td>1994.0</td>\n",
       "      <td>Immortal Beloved</td>\n",
       "    </tr>\n",
       "    <tr>\n",
       "      <th>19</th>\n",
       "      <td>2000.0</td>\n",
       "      <td>By Dawn's Early Light</td>\n",
       "    </tr>\n",
       "    <tr>\n",
       "      <th>20</th>\n",
       "      <td>1972.0</td>\n",
       "      <td>Seeta Aur Geeta</td>\n",
       "    </tr>\n",
       "  </tbody>\n",
       "</table>\n",
       "</div>"
      ],
      "text/plain": [
       "      YEAR                                              MOVIE\n",
       "1   2003.0                                    Dinosaur Planet\n",
       "2   2004.0                         Isle of Man TT 2004 Review\n",
       "3   1997.0                                          Character\n",
       "4   1994.0                       Paula Abdul's Get Up & Dance\n",
       "5   2004.0                           The Rise and Fall of ECW\n",
       "6   1997.0                                               Sick\n",
       "7   1992.0                                              8 Man\n",
       "8   2004.0                         What the #$*! Do We Know!?\n",
       "9   1991.0                           Class of Nuke 'Em High 2\n",
       "10  2001.0                                            Fighter\n",
       "11  1999.0                     Full Frame: Documentary Shorts\n",
       "12  1947.0                               My Favorite Brunette\n",
       "13  2003.0  Lord of the Rings: The Return of the King: Ext...\n",
       "14  1982.0                                 Nature: Antarctica\n",
       "15  1988.0                   Neil Diamond: Greatest Hits Live\n",
       "16  1996.0                                          Screamers\n",
       "17  2005.0                                          7 Seconds\n",
       "18  1994.0                                   Immortal Beloved\n",
       "19  2000.0                              By Dawn's Early Light\n",
       "20  1972.0                                    Seeta Aur Geeta"
      ]
     },
     "execution_count": 3,
     "metadata": {
      "tags": []
     },
     "output_type": "execute_result"
    }
   ],
   "source": [
    "MT.head(20)"
   ]
  },
  {
   "cell_type": "markdown",
   "metadata": {
    "colab_type": "text",
    "id": "H_oSr38lcXxH"
   },
   "source": [
    "As we can observe that YEAR column has values in FLOAT , lets try to convert it into integer.\n",
    "Now,find the number of null values present in each column."
   ]
  },
  {
   "cell_type": "code",
   "execution_count": 0,
   "metadata": {
    "colab": {
     "base_uri": "https://localhost:8080/",
     "height": 68
    },
    "colab_type": "code",
    "id": "l1U-fnDxcVCU",
    "outputId": "11a5ee0e-30a0-4d4b-8d44-df9a9924fad9"
   },
   "outputs": [
    {
     "data": {
      "text/plain": [
       "YEAR     7\n",
       "MOVIE    0\n",
       "dtype: int64"
      ]
     },
     "execution_count": 6,
     "metadata": {
      "tags": []
     },
     "output_type": "execute_result"
    }
   ],
   "source": [
    "MT.isnull().sum()"
   ]
  },
  {
   "cell_type": "markdown",
   "metadata": {
    "colab_type": "text",
    "id": "QTYDbn-EDfSy"
   },
   "source": [
    "Now, we found that column YEAR has 7 null values and now we have to find those movies which has null years and fill them"
   ]
  },
  {
   "cell_type": "code",
   "execution_count": 0,
   "metadata": {
    "colab": {
     "base_uri": "https://localhost:8080/",
     "height": 266
    },
    "colab_type": "code",
    "id": "b9fYg105dIu0",
    "outputId": "eeca1845-c9f7-470b-8242-400955af8bc4"
   },
   "outputs": [
    {
     "data": {
      "text/html": [
       "<div>\n",
       "<style scoped>\n",
       "    .dataframe tbody tr th:only-of-type {\n",
       "        vertical-align: middle;\n",
       "    }\n",
       "\n",
       "    .dataframe tbody tr th {\n",
       "        vertical-align: top;\n",
       "    }\n",
       "\n",
       "    .dataframe thead th {\n",
       "        text-align: right;\n",
       "    }\n",
       "</style>\n",
       "<table border=\"1\" class=\"dataframe\">\n",
       "  <thead>\n",
       "    <tr style=\"text-align: right;\">\n",
       "      <th></th>\n",
       "      <th>YEAR</th>\n",
       "      <th>MOVIE</th>\n",
       "    </tr>\n",
       "  </thead>\n",
       "  <tbody>\n",
       "    <tr>\n",
       "      <th>4388</th>\n",
       "      <td>NaN</td>\n",
       "      <td>Ancient Civilizations: Rome and Pompeii</td>\n",
       "    </tr>\n",
       "    <tr>\n",
       "      <th>4794</th>\n",
       "      <td>NaN</td>\n",
       "      <td>Ancient Civilizations: Land of the Pharaohs</td>\n",
       "    </tr>\n",
       "    <tr>\n",
       "      <th>7241</th>\n",
       "      <td>NaN</td>\n",
       "      <td>Ancient Civilizations: Athens and Greece</td>\n",
       "    </tr>\n",
       "    <tr>\n",
       "      <th>10782</th>\n",
       "      <td>NaN</td>\n",
       "      <td>Roti Kapada Aur Makaan</td>\n",
       "    </tr>\n",
       "    <tr>\n",
       "      <th>15918</th>\n",
       "      <td>NaN</td>\n",
       "      <td>Hote Hote Pyaar Ho Gaya</td>\n",
       "    </tr>\n",
       "    <tr>\n",
       "      <th>16678</th>\n",
       "      <td>NaN</td>\n",
       "      <td>Jimmy Hollywood</td>\n",
       "    </tr>\n",
       "    <tr>\n",
       "      <th>17667</th>\n",
       "      <td>NaN</td>\n",
       "      <td>Eros Dance Dhamaka</td>\n",
       "    </tr>\n",
       "  </tbody>\n",
       "</table>\n",
       "</div>"
      ],
      "text/plain": [
       "       YEAR                                        MOVIE\n",
       "4388    NaN      Ancient Civilizations: Rome and Pompeii\n",
       "4794    NaN  Ancient Civilizations: Land of the Pharaohs\n",
       "7241    NaN     Ancient Civilizations: Athens and Greece\n",
       "10782   NaN                       Roti Kapada Aur Makaan\n",
       "15918   NaN                      Hote Hote Pyaar Ho Gaya\n",
       "16678   NaN                              Jimmy Hollywood\n",
       "17667   NaN                           Eros Dance Dhamaka"
      ]
     },
     "execution_count": 7,
     "metadata": {
      "tags": []
     },
     "output_type": "execute_result"
    }
   ],
   "source": [
    "MT[pd.isnull(MT).any(axis=1)]"
   ]
  },
  {
   "cell_type": "markdown",
   "metadata": {
    "colab_type": "text",
    "id": "AvonHEjbEM46"
   },
   "source": [
    "1.   Ancient Civilizations: Rome and Pompeii - 2001\n",
    "2.   Ancient Civilizations: Land of the Pharaohs - 2001\n",
    "3.   Ancient Civilizations: Athens and Greece - 2001\n",
    "4.   Roti Kapada Aur Makaan - 1974\n",
    "5.   Hote Hote Pyaar Ho Gaya - 1999\n",
    "6.   Jimmy Hollywood -1994   \n",
    "7.   Eros Dance Dhamaka -1999\n",
    "\n",
    "Now, fill accordingly in the year column to their movies.\n",
    "\n",
    "\n",
    "\n",
    "\n",
    "\n",
    "\n",
    "\n",
    "\n",
    "\n"
   ]
  },
  {
   "cell_type": "code",
   "execution_count": 0,
   "metadata": {
    "colab": {},
    "colab_type": "code",
    "id": "Nvfsq3idEAJz"
   },
   "outputs": [],
   "source": [
    "MT.at[4388,'YEAR'] = 2001\n",
    "MT.at[4794,'YEAR'] = 2001\n",
    "MT.at[7241,'YEAR'] = 2001\n",
    "MT.at[10782,'YEAR'] = 1974\n",
    "MT.at[15918,'YEAR'] = 1999\n",
    "MT.at[16678,'YEAR'] = 1994\n",
    "MT.at[17667,'YEAR'] = 1999"
   ]
  },
  {
   "cell_type": "markdown",
   "metadata": {
    "colab_type": "text",
    "id": "jW62H99TNPyS"
   },
   "source": [
    "Now, lets find if there are any null values left in the data frame."
   ]
  },
  {
   "cell_type": "code",
   "execution_count": 0,
   "metadata": {
    "colab": {
     "base_uri": "https://localhost:8080/",
     "height": 68
    },
    "colab_type": "code",
    "id": "tGbPmj0pMqSs",
    "outputId": "ef26856d-1a42-497e-da57-d0b78eb73738"
   },
   "outputs": [
    {
     "data": {
      "text/plain": [
       "YEAR     0\n",
       "MOVIE    0\n",
       "dtype: int64"
      ]
     },
     "execution_count": 18,
     "metadata": {
      "tags": []
     },
     "output_type": "execute_result"
    }
   ],
   "source": [
    "MT.isnull().sum()"
   ]
  },
  {
   "cell_type": "markdown",
   "metadata": {
    "colab_type": "text",
    "id": "NIpXuU3lNqBV"
   },
   "source": [
    "Yay!! No null values were found . \n",
    "\n",
    "1.   lets convert the YEAR column to Integer from FLOAT.\n",
    "\n",
    "\n"
   ]
  },
  {
   "cell_type": "code",
   "execution_count": 0,
   "metadata": {
    "colab": {},
    "colab_type": "code",
    "id": "30bys07ONiKO"
   },
   "outputs": [],
   "source": [
    "MT['YEAR'] = MT['YEAR'].astype(int)"
   ]
  },
  {
   "cell_type": "markdown",
   "metadata": {
    "colab_type": "text",
    "id": "Iz1oasGTOCiq"
   },
   "source": [
    "YAY!! we successfully converted the YEAR column to integers.\n",
    "\n",
    "1.   Lets verify by displaying the dataframe .\n",
    "\n",
    "\n"
   ]
  },
  {
   "cell_type": "code",
   "execution_count": 0,
   "metadata": {
    "colab": {
     "base_uri": "https://localhost:8080/",
     "height": 204
    },
    "colab_type": "code",
    "id": "uEOoP3LjOAS_",
    "outputId": "37ca623e-70d4-4cd0-f059-efcfd7c48903"
   },
   "outputs": [
    {
     "data": {
      "text/html": [
       "<div>\n",
       "<style scoped>\n",
       "    .dataframe tbody tr th:only-of-type {\n",
       "        vertical-align: middle;\n",
       "    }\n",
       "\n",
       "    .dataframe tbody tr th {\n",
       "        vertical-align: top;\n",
       "    }\n",
       "\n",
       "    .dataframe thead th {\n",
       "        text-align: right;\n",
       "    }\n",
       "</style>\n",
       "<table border=\"1\" class=\"dataframe\">\n",
       "  <thead>\n",
       "    <tr style=\"text-align: right;\">\n",
       "      <th></th>\n",
       "      <th>YEAR</th>\n",
       "      <th>MOVIE</th>\n",
       "    </tr>\n",
       "  </thead>\n",
       "  <tbody>\n",
       "    <tr>\n",
       "      <th>1</th>\n",
       "      <td>2003</td>\n",
       "      <td>Dinosaur Planet</td>\n",
       "    </tr>\n",
       "    <tr>\n",
       "      <th>2</th>\n",
       "      <td>2004</td>\n",
       "      <td>Isle of Man TT 2004 Review</td>\n",
       "    </tr>\n",
       "    <tr>\n",
       "      <th>3</th>\n",
       "      <td>1997</td>\n",
       "      <td>Character</td>\n",
       "    </tr>\n",
       "    <tr>\n",
       "      <th>4</th>\n",
       "      <td>1994</td>\n",
       "      <td>Paula Abdul's Get Up &amp; Dance</td>\n",
       "    </tr>\n",
       "    <tr>\n",
       "      <th>5</th>\n",
       "      <td>2004</td>\n",
       "      <td>The Rise and Fall of ECW</td>\n",
       "    </tr>\n",
       "  </tbody>\n",
       "</table>\n",
       "</div>"
      ],
      "text/plain": [
       "   YEAR                         MOVIE\n",
       "1  2003               Dinosaur Planet\n",
       "2  2004    Isle of Man TT 2004 Review\n",
       "3  1997                     Character\n",
       "4  1994  Paula Abdul's Get Up & Dance\n",
       "5  2004      The Rise and Fall of ECW"
      ]
     },
     "execution_count": 20,
     "metadata": {
      "tags": []
     },
     "output_type": "execute_result"
    }
   ],
   "source": [
    "MT.head(5)"
   ]
  },
  {
   "cell_type": "code",
   "execution_count": 0,
   "metadata": {
    "colab": {},
    "colab_type": "code",
    "id": "ZrDkOxLLObFG"
   },
   "outputs": [],
   "source": []
  }
 ],
 "metadata": {
  "colab": {
   "authorship_tag": "ABX9TyPFr1MRJTGx4pbV7iHTB1B2",
   "collapsed_sections": [],
   "include_colab_link": true,
   "name": "Netflix-Prize-Data.ipynb",
   "provenance": []
  },
  "kernelspec": {
   "display_name": "Python 3",
   "language": "python",
   "name": "python3"
  },
  "language_info": {
   "codemirror_mode": {
    "name": "ipython",
    "version": 3
   },
   "file_extension": ".py",
   "mimetype": "text/x-python",
   "name": "python",
   "nbconvert_exporter": "python",
   "pygments_lexer": "ipython3",
   "version": "3.7.4"
  }
 },
 "nbformat": 4,
 "nbformat_minor": 1
}
