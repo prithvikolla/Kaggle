{
  "nbformat": 4,
  "nbformat_minor": 0,
  "metadata": {
    "colab": {
      "name": "netflix-analysis.ipynb",
      "provenance": [],
      "collapsed_sections": [],
      "toc_visible": true,
      "include_colab_link": true
    },
    "kernelspec": {
      "display_name": "Python 3",
      "name": "python3"
    },
    "language_info": {
      "codemirror_mode": {
        "name": "ipython",
        "version": 3
      },
      "file_extension": ".py",
      "mimetype": "text/x-python",
      "name": "python",
      "nbconvert_exporter": "python",
      "pygments_lexer": "ipython3",
      "version": "3.6.6"
    }
  },
  "cells": [
    {
      "cell_type": "markdown",
      "metadata": {
        "id": "view-in-github",
        "colab_type": "text"
      },
      "source": [
        "<a href=\"https://colab.research.google.com/github/prithvikolla/Kaggle-challenges/blob/master/netflix_analysis.ipynb\" target=\"_parent\"><img src=\"https://colab.research.google.com/assets/colab-badge.svg\" alt=\"Open In Colab\"/></a>"
      ]
    },
    {
      "cell_type": "markdown",
      "metadata": {
        "colab_type": "text",
        "id": "iptn8taXOfvW"
      },
      "source": [
        "# EXPLORATORY DATA ANALYSIS\n",
        "# DATA CLEANING\n",
        "# DATA MAPPING\n",
        "# DATA VISUALIZATION"
      ]
    },
    {
      "cell_type": "markdown",
      "metadata": {
        "colab_type": "text",
        "id": "2RA0ZUmebRAz"
      },
      "source": [
        "We import pandas library to do exploratory data analysis and visualization"
      ]
    },
    {
      "cell_type": "code",
      "metadata": {
        "colab_type": "code",
        "id": "86AYyRc75dzb",
        "colab": {}
      },
      "source": [
        "import pandas as pd"
      ],
      "execution_count": 0,
      "outputs": []
    },
    {
      "cell_type": "markdown",
      "metadata": {
        "colab_type": "text",
        "id": "eXed04Otbb-m"
      },
      "source": [
        "Since the file \"movie_titles.csv\" does not contain any column names i had to give it manually. and we should use encoding = \"ISO-8859-1\" to read the csv file or else we encounter error."
      ]
    },
    {
      "cell_type": "code",
      "metadata": {
        "colab_type": "code",
        "id": "FXEcg3p0FEjz",
        "colab": {}
      },
      "source": [
        "columnNames = ['YEAR','MOVIE']\n",
        "MT = pd.read_csv(\"../input/netflix-prize-data/movie_titles.csv\",names= columnNames,encoding = \"ISO-8859-1\")"
      ],
      "execution_count": 0,
      "outputs": []
    },
    {
      "cell_type": "markdown",
      "metadata": {
        "colab_type": "text",
        "id": "HXfee1-Vb4k_"
      },
      "source": [
        "In order to observe the first 20 records of the file \"movie_titles.csv\" we use head() function"
      ]
    },
    {
      "cell_type": "code",
      "metadata": {
        "colab_type": "code",
        "id": "taTShMIDWonV",
        "outputId": "638e7a47-b033-494d-9636-4d258e7f1c9b",
        "colab": {
          "base_uri": "https://localhost:8080/",
          "height": 669
        }
      },
      "source": [
        "MT.head(20)"
      ],
      "execution_count": 0,
      "outputs": [
        {
          "output_type": "execute_result",
          "data": {
            "text/html": [
              "<div>\n",
              "<style scoped>\n",
              "    .dataframe tbody tr th:only-of-type {\n",
              "        vertical-align: middle;\n",
              "    }\n",
              "\n",
              "    .dataframe tbody tr th {\n",
              "        vertical-align: top;\n",
              "    }\n",
              "\n",
              "    .dataframe thead th {\n",
              "        text-align: right;\n",
              "    }\n",
              "</style>\n",
              "<table border=\"1\" class=\"dataframe\">\n",
              "  <thead>\n",
              "    <tr style=\"text-align: right;\">\n",
              "      <th></th>\n",
              "      <th>YEAR</th>\n",
              "      <th>MOVIE</th>\n",
              "    </tr>\n",
              "  </thead>\n",
              "  <tbody>\n",
              "    <tr>\n",
              "      <th>1</th>\n",
              "      <td>2003.0</td>\n",
              "      <td>Dinosaur Planet</td>\n",
              "    </tr>\n",
              "    <tr>\n",
              "      <th>2</th>\n",
              "      <td>2004.0</td>\n",
              "      <td>Isle of Man TT 2004 Review</td>\n",
              "    </tr>\n",
              "    <tr>\n",
              "      <th>3</th>\n",
              "      <td>1997.0</td>\n",
              "      <td>Character</td>\n",
              "    </tr>\n",
              "    <tr>\n",
              "      <th>4</th>\n",
              "      <td>1994.0</td>\n",
              "      <td>Paula Abdul's Get Up &amp; Dance</td>\n",
              "    </tr>\n",
              "    <tr>\n",
              "      <th>5</th>\n",
              "      <td>2004.0</td>\n",
              "      <td>The Rise and Fall of ECW</td>\n",
              "    </tr>\n",
              "    <tr>\n",
              "      <th>6</th>\n",
              "      <td>1997.0</td>\n",
              "      <td>Sick</td>\n",
              "    </tr>\n",
              "    <tr>\n",
              "      <th>7</th>\n",
              "      <td>1992.0</td>\n",
              "      <td>8 Man</td>\n",
              "    </tr>\n",
              "    <tr>\n",
              "      <th>8</th>\n",
              "      <td>2004.0</td>\n",
              "      <td>What the #$*! Do We Know!?</td>\n",
              "    </tr>\n",
              "    <tr>\n",
              "      <th>9</th>\n",
              "      <td>1991.0</td>\n",
              "      <td>Class of Nuke 'Em High 2</td>\n",
              "    </tr>\n",
              "    <tr>\n",
              "      <th>10</th>\n",
              "      <td>2001.0</td>\n",
              "      <td>Fighter</td>\n",
              "    </tr>\n",
              "    <tr>\n",
              "      <th>11</th>\n",
              "      <td>1999.0</td>\n",
              "      <td>Full Frame: Documentary Shorts</td>\n",
              "    </tr>\n",
              "    <tr>\n",
              "      <th>12</th>\n",
              "      <td>1947.0</td>\n",
              "      <td>My Favorite Brunette</td>\n",
              "    </tr>\n",
              "    <tr>\n",
              "      <th>13</th>\n",
              "      <td>2003.0</td>\n",
              "      <td>Lord of the Rings: The Return of the King: Ext...</td>\n",
              "    </tr>\n",
              "    <tr>\n",
              "      <th>14</th>\n",
              "      <td>1982.0</td>\n",
              "      <td>Nature: Antarctica</td>\n",
              "    </tr>\n",
              "    <tr>\n",
              "      <th>15</th>\n",
              "      <td>1988.0</td>\n",
              "      <td>Neil Diamond: Greatest Hits Live</td>\n",
              "    </tr>\n",
              "    <tr>\n",
              "      <th>16</th>\n",
              "      <td>1996.0</td>\n",
              "      <td>Screamers</td>\n",
              "    </tr>\n",
              "    <tr>\n",
              "      <th>17</th>\n",
              "      <td>2005.0</td>\n",
              "      <td>7 Seconds</td>\n",
              "    </tr>\n",
              "    <tr>\n",
              "      <th>18</th>\n",
              "      <td>1994.0</td>\n",
              "      <td>Immortal Beloved</td>\n",
              "    </tr>\n",
              "    <tr>\n",
              "      <th>19</th>\n",
              "      <td>2000.0</td>\n",
              "      <td>By Dawn's Early Light</td>\n",
              "    </tr>\n",
              "    <tr>\n",
              "      <th>20</th>\n",
              "      <td>1972.0</td>\n",
              "      <td>Seeta Aur Geeta</td>\n",
              "    </tr>\n",
              "  </tbody>\n",
              "</table>\n",
              "</div>"
            ],
            "text/plain": [
              "      YEAR                                              MOVIE\n",
              "1   2003.0                                    Dinosaur Planet\n",
              "2   2004.0                         Isle of Man TT 2004 Review\n",
              "3   1997.0                                          Character\n",
              "4   1994.0                       Paula Abdul's Get Up & Dance\n",
              "5   2004.0                           The Rise and Fall of ECW\n",
              "6   1997.0                                               Sick\n",
              "7   1992.0                                              8 Man\n",
              "8   2004.0                         What the #$*! Do We Know!?\n",
              "9   1991.0                           Class of Nuke 'Em High 2\n",
              "10  2001.0                                            Fighter\n",
              "11  1999.0                     Full Frame: Documentary Shorts\n",
              "12  1947.0                               My Favorite Brunette\n",
              "13  2003.0  Lord of the Rings: The Return of the King: Ext...\n",
              "14  1982.0                                 Nature: Antarctica\n",
              "15  1988.0                   Neil Diamond: Greatest Hits Live\n",
              "16  1996.0                                          Screamers\n",
              "17  2005.0                                          7 Seconds\n",
              "18  1994.0                                   Immortal Beloved\n",
              "19  2000.0                              By Dawn's Early Light\n",
              "20  1972.0                                    Seeta Aur Geeta"
            ]
          },
          "metadata": {
            "tags": []
          },
          "execution_count": 3
        }
      ]
    },
    {
      "cell_type": "markdown",
      "metadata": {
        "colab_type": "text",
        "id": "H_oSr38lcXxH"
      },
      "source": [
        "As we can observe that YEAR column has values in FLOAT , lets try to convert it into integer.\n",
        "Now,find the number of null values present in each column."
      ]
    },
    {
      "cell_type": "code",
      "metadata": {
        "colab_type": "code",
        "id": "l1U-fnDxcVCU",
        "outputId": "d6e58a76-6633-455c-b42a-4d8e6c34781f",
        "colab": {
          "base_uri": "https://localhost:8080/",
          "height": 68
        }
      },
      "source": [
        "MT.isnull().sum()"
      ],
      "execution_count": 0,
      "outputs": [
        {
          "output_type": "execute_result",
          "data": {
            "text/plain": [
              "YEAR     7\n",
              "MOVIE    0\n",
              "dtype: int64"
            ]
          },
          "metadata": {
            "tags": []
          },
          "execution_count": 4
        }
      ]
    },
    {
      "cell_type": "markdown",
      "metadata": {
        "colab_type": "text",
        "id": "QTYDbn-EDfSy"
      },
      "source": [
        "Now, we found that column YEAR has 7 null values and now we have to find those movies which has null years and fill them"
      ]
    },
    {
      "cell_type": "code",
      "metadata": {
        "colab_type": "code",
        "id": "b9fYg105dIu0",
        "outputId": "d38a3cbd-9e5d-4c47-eb6b-36e58a35d6d3",
        "colab": {
          "base_uri": "https://localhost:8080/",
          "height": 266
        }
      },
      "source": [
        "MT[pd.isnull(MT).any(axis=1)]"
      ],
      "execution_count": 0,
      "outputs": [
        {
          "output_type": "execute_result",
          "data": {
            "text/html": [
              "<div>\n",
              "<style scoped>\n",
              "    .dataframe tbody tr th:only-of-type {\n",
              "        vertical-align: middle;\n",
              "    }\n",
              "\n",
              "    .dataframe tbody tr th {\n",
              "        vertical-align: top;\n",
              "    }\n",
              "\n",
              "    .dataframe thead th {\n",
              "        text-align: right;\n",
              "    }\n",
              "</style>\n",
              "<table border=\"1\" class=\"dataframe\">\n",
              "  <thead>\n",
              "    <tr style=\"text-align: right;\">\n",
              "      <th></th>\n",
              "      <th>YEAR</th>\n",
              "      <th>MOVIE</th>\n",
              "    </tr>\n",
              "  </thead>\n",
              "  <tbody>\n",
              "    <tr>\n",
              "      <th>4388</th>\n",
              "      <td>NaN</td>\n",
              "      <td>Ancient Civilizations: Rome and Pompeii</td>\n",
              "    </tr>\n",
              "    <tr>\n",
              "      <th>4794</th>\n",
              "      <td>NaN</td>\n",
              "      <td>Ancient Civilizations: Land of the Pharaohs</td>\n",
              "    </tr>\n",
              "    <tr>\n",
              "      <th>7241</th>\n",
              "      <td>NaN</td>\n",
              "      <td>Ancient Civilizations: Athens and Greece</td>\n",
              "    </tr>\n",
              "    <tr>\n",
              "      <th>10782</th>\n",
              "      <td>NaN</td>\n",
              "      <td>Roti Kapada Aur Makaan</td>\n",
              "    </tr>\n",
              "    <tr>\n",
              "      <th>15918</th>\n",
              "      <td>NaN</td>\n",
              "      <td>Hote Hote Pyaar Ho Gaya</td>\n",
              "    </tr>\n",
              "    <tr>\n",
              "      <th>16678</th>\n",
              "      <td>NaN</td>\n",
              "      <td>Jimmy Hollywood</td>\n",
              "    </tr>\n",
              "    <tr>\n",
              "      <th>17667</th>\n",
              "      <td>NaN</td>\n",
              "      <td>Eros Dance Dhamaka</td>\n",
              "    </tr>\n",
              "  </tbody>\n",
              "</table>\n",
              "</div>"
            ],
            "text/plain": [
              "       YEAR                                        MOVIE\n",
              "4388    NaN      Ancient Civilizations: Rome and Pompeii\n",
              "4794    NaN  Ancient Civilizations: Land of the Pharaohs\n",
              "7241    NaN     Ancient Civilizations: Athens and Greece\n",
              "10782   NaN                       Roti Kapada Aur Makaan\n",
              "15918   NaN                      Hote Hote Pyaar Ho Gaya\n",
              "16678   NaN                              Jimmy Hollywood\n",
              "17667   NaN                           Eros Dance Dhamaka"
            ]
          },
          "metadata": {
            "tags": []
          },
          "execution_count": 5
        }
      ]
    },
    {
      "cell_type": "markdown",
      "metadata": {
        "colab_type": "text",
        "id": "AvonHEjbEM46"
      },
      "source": [
        "1.   Ancient Civilizations: Rome and Pompeii - 2001\n",
        "2.   Ancient Civilizations: Land of the Pharaohs - 2001\n",
        "3.   Ancient Civilizations: Athens and Greece - 2001\n",
        "4.   Roti Kapada Aur Makaan - 1974\n",
        "5.   Hote Hote Pyaar Ho Gaya - 1999\n",
        "6.   Jimmy Hollywood -1994   \n",
        "7.   Eros Dance Dhamaka -1999\n",
        "\n",
        "Now, fill accordingly in the year column to their movies.\n",
        "\n",
        "\n",
        "\n",
        "\n",
        "\n",
        "\n",
        "\n",
        "\n",
        "\n"
      ]
    },
    {
      "cell_type": "code",
      "metadata": {
        "colab_type": "code",
        "id": "Nvfsq3idEAJz",
        "colab": {}
      },
      "source": [
        "MT.at[4388,'YEAR'] = 2001\n",
        "MT.at[4794,'YEAR'] = 2001\n",
        "MT.at[7241,'YEAR'] = 2001\n",
        "MT.at[10782,'YEAR'] = 1974\n",
        "MT.at[15918,'YEAR'] = 1999\n",
        "MT.at[16678,'YEAR'] = 1994\n",
        "MT.at[17667,'YEAR'] = 1999"
      ],
      "execution_count": 0,
      "outputs": []
    },
    {
      "cell_type": "markdown",
      "metadata": {
        "colab_type": "text",
        "id": "jW62H99TNPyS"
      },
      "source": [
        "Now, lets find if there are any null values left in the data frame."
      ]
    },
    {
      "cell_type": "code",
      "metadata": {
        "colab_type": "code",
        "id": "tGbPmj0pMqSs",
        "outputId": "47f942a7-80b3-497e-bbd3-860958623b84",
        "colab": {
          "base_uri": "https://localhost:8080/",
          "height": 68
        }
      },
      "source": [
        "MT.isnull().sum()"
      ],
      "execution_count": 0,
      "outputs": [
        {
          "output_type": "execute_result",
          "data": {
            "text/plain": [
              "YEAR     0\n",
              "MOVIE    0\n",
              "dtype: int64"
            ]
          },
          "metadata": {
            "tags": []
          },
          "execution_count": 7
        }
      ]
    },
    {
      "cell_type": "markdown",
      "metadata": {
        "colab_type": "text",
        "id": "NIpXuU3lNqBV"
      },
      "source": [
        "Yay!! No null values were found . \n",
        "\n",
        "1.   lets convert the YEAR column to Integer from FLOAT.\n",
        "\n",
        "\n"
      ]
    },
    {
      "cell_type": "code",
      "metadata": {
        "colab_type": "code",
        "id": "30bys07ONiKO",
        "colab": {}
      },
      "source": [
        "MT['YEAR'] = MT['YEAR'].astype(int)"
      ],
      "execution_count": 0,
      "outputs": []
    },
    {
      "cell_type": "markdown",
      "metadata": {
        "colab_type": "text",
        "id": "Iz1oasGTOCiq"
      },
      "source": [
        "YAY!! we successfully converted the YEAR column to integers.\n",
        "\n",
        "1.   Lets verify by displaying the dataframe .\n",
        "\n",
        "\n"
      ]
    },
    {
      "cell_type": "code",
      "metadata": {
        "colab_type": "code",
        "id": "uEOoP3LjOAS_",
        "outputId": "43387f6c-eae7-4f4a-a453-cda611d5d866",
        "colab": {
          "base_uri": "https://localhost:8080/",
          "height": 204
        }
      },
      "source": [
        "MT.head(5)"
      ],
      "execution_count": 0,
      "outputs": [
        {
          "output_type": "execute_result",
          "data": {
            "text/html": [
              "<div>\n",
              "<style scoped>\n",
              "    .dataframe tbody tr th:only-of-type {\n",
              "        vertical-align: middle;\n",
              "    }\n",
              "\n",
              "    .dataframe tbody tr th {\n",
              "        vertical-align: top;\n",
              "    }\n",
              "\n",
              "    .dataframe thead th {\n",
              "        text-align: right;\n",
              "    }\n",
              "</style>\n",
              "<table border=\"1\" class=\"dataframe\">\n",
              "  <thead>\n",
              "    <tr style=\"text-align: right;\">\n",
              "      <th></th>\n",
              "      <th>YEAR</th>\n",
              "      <th>MOVIE</th>\n",
              "    </tr>\n",
              "  </thead>\n",
              "  <tbody>\n",
              "    <tr>\n",
              "      <th>1</th>\n",
              "      <td>2003</td>\n",
              "      <td>Dinosaur Planet</td>\n",
              "    </tr>\n",
              "    <tr>\n",
              "      <th>2</th>\n",
              "      <td>2004</td>\n",
              "      <td>Isle of Man TT 2004 Review</td>\n",
              "    </tr>\n",
              "    <tr>\n",
              "      <th>3</th>\n",
              "      <td>1997</td>\n",
              "      <td>Character</td>\n",
              "    </tr>\n",
              "    <tr>\n",
              "      <th>4</th>\n",
              "      <td>1994</td>\n",
              "      <td>Paula Abdul's Get Up &amp; Dance</td>\n",
              "    </tr>\n",
              "    <tr>\n",
              "      <th>5</th>\n",
              "      <td>2004</td>\n",
              "      <td>The Rise and Fall of ECW</td>\n",
              "    </tr>\n",
              "  </tbody>\n",
              "</table>\n",
              "</div>"
            ],
            "text/plain": [
              "   YEAR                         MOVIE\n",
              "1  2003               Dinosaur Planet\n",
              "2  2004    Isle of Man TT 2004 Review\n",
              "3  1997                     Character\n",
              "4  1994  Paula Abdul's Get Up & Dance\n",
              "5  2004      The Rise and Fall of ECW"
            ]
          },
          "metadata": {
            "tags": []
          },
          "execution_count": 9
        }
      ]
    },
    {
      "cell_type": "markdown",
      "metadata": {
        "colab_type": "text",
        "id": "KgUx3Dmfm0Tb"
      },
      "source": [
        "1. Read the combined_data_1.txt , combined_data_2.txt, combined_data_3.txt, combined_data_4.txt . As it is in raw form we    might encounter with errors . so better we use seperator and also give column names as given in the ReadMe File.\n",
        "\n",
        "2. output the first 5 rows in the combined_data_1.txt file.\n",
        "   we see that it has null first row \n",
        "   \n",
        "3. Remove all the rows having the null values .\n",
        "\n",
        "4. find out how many null values are present in the data set and particularly in each column.\n",
        "\n",
        "5. Now verify if the dataset has null values are not.\n",
        "\n",
        "6. Find the shape of the data set and then remove all the null valued rows present in the data set.\n",
        "   Here we see that it has 3 columns and 19 lakh rows.\n",
        "   "
      ]
    },
    {
      "cell_type": "code",
      "metadata": {
        "colab_type": "code",
        "id": "ZrDkOxLLObFG",
        "colab": {}
      },
      "source": [
        "Cd1 = pd.read_csv(\"../input/netflix-prize-data/combined_data_1.txt\",sep = ',',names= ['CustomerID','Rating','Date'] )"
      ],
      "execution_count": 0,
      "outputs": []
    },
    {
      "cell_type": "code",
      "metadata": {
        "id": "RatrythkDq14",
        "colab_type": "code",
        "colab": {}
      },
      "source": [
        "Cd2 = pd.read_csv(\"../input/netflix-prize-data/combined_data_2.txt\",sep = ',',names= ['CustomerID','Rating','Date'] )"
      ],
      "execution_count": 0,
      "outputs": []
    },
    {
      "cell_type": "code",
      "metadata": {
        "id": "-WfPpat7Dq19",
        "colab_type": "code",
        "colab": {}
      },
      "source": [
        "Cd3 = pd.read_csv(\"../input/netflix-prize-data/combined_data_3.txt\",sep = ',',names= ['CustomerID','Rating','Date'] )"
      ],
      "execution_count": 0,
      "outputs": []
    },
    {
      "cell_type": "code",
      "metadata": {
        "id": "qfxfCmCoDq2D",
        "colab_type": "code",
        "colab": {}
      },
      "source": [
        "Cd4 = pd.read_csv(\"../input/netflix-prize-data/combined_data_4.txt\",sep = ',',names= ['CustomerID','Rating','Date'] )"
      ],
      "execution_count": 0,
      "outputs": []
    },
    {
      "cell_type": "code",
      "metadata": {
        "colab_type": "code",
        "id": "LhDikgyZjYht",
        "outputId": "cb24f39c-b483-47ba-e0a9-c474424233bb",
        "colab": {
          "base_uri": "https://localhost:8080/",
          "height": 204
        }
      },
      "source": [
        "Cd1.head(5)"
      ],
      "execution_count": 0,
      "outputs": [
        {
          "output_type": "execute_result",
          "data": {
            "text/html": [
              "<div>\n",
              "<style scoped>\n",
              "    .dataframe tbody tr th:only-of-type {\n",
              "        vertical-align: middle;\n",
              "    }\n",
              "\n",
              "    .dataframe tbody tr th {\n",
              "        vertical-align: top;\n",
              "    }\n",
              "\n",
              "    .dataframe thead th {\n",
              "        text-align: right;\n",
              "    }\n",
              "</style>\n",
              "<table border=\"1\" class=\"dataframe\">\n",
              "  <thead>\n",
              "    <tr style=\"text-align: right;\">\n",
              "      <th></th>\n",
              "      <th>CustomerID</th>\n",
              "      <th>Rating</th>\n",
              "      <th>Date</th>\n",
              "    </tr>\n",
              "  </thead>\n",
              "  <tbody>\n",
              "    <tr>\n",
              "      <th>0</th>\n",
              "      <td>1:</td>\n",
              "      <td>NaN</td>\n",
              "      <td>NaN</td>\n",
              "    </tr>\n",
              "    <tr>\n",
              "      <th>1</th>\n",
              "      <td>1488844</td>\n",
              "      <td>3.0</td>\n",
              "      <td>2005-09-06</td>\n",
              "    </tr>\n",
              "    <tr>\n",
              "      <th>2</th>\n",
              "      <td>822109</td>\n",
              "      <td>5.0</td>\n",
              "      <td>2005-05-13</td>\n",
              "    </tr>\n",
              "    <tr>\n",
              "      <th>3</th>\n",
              "      <td>885013</td>\n",
              "      <td>4.0</td>\n",
              "      <td>2005-10-19</td>\n",
              "    </tr>\n",
              "    <tr>\n",
              "      <th>4</th>\n",
              "      <td>30878</td>\n",
              "      <td>4.0</td>\n",
              "      <td>2005-12-26</td>\n",
              "    </tr>\n",
              "  </tbody>\n",
              "</table>\n",
              "</div>"
            ],
            "text/plain": [
              "  CustomerID  Rating        Date\n",
              "0         1:     NaN         NaN\n",
              "1    1488844     3.0  2005-09-06\n",
              "2     822109     5.0  2005-05-13\n",
              "3     885013     4.0  2005-10-19\n",
              "4      30878     4.0  2005-12-26"
            ]
          },
          "metadata": {
            "tags": []
          },
          "execution_count": 14
        }
      ]
    },
    {
      "cell_type": "code",
      "metadata": {
        "id": "4bd8FZqdDq2O",
        "colab_type": "code",
        "colab": {},
        "outputId": "a11864dc-b1c2-4e97-9a70-953b35d63a0f"
      },
      "source": [
        "Cd2.head(5)"
      ],
      "execution_count": 0,
      "outputs": [
        {
          "output_type": "execute_result",
          "data": {
            "text/html": [
              "<div>\n",
              "<style scoped>\n",
              "    .dataframe tbody tr th:only-of-type {\n",
              "        vertical-align: middle;\n",
              "    }\n",
              "\n",
              "    .dataframe tbody tr th {\n",
              "        vertical-align: top;\n",
              "    }\n",
              "\n",
              "    .dataframe thead th {\n",
              "        text-align: right;\n",
              "    }\n",
              "</style>\n",
              "<table border=\"1\" class=\"dataframe\">\n",
              "  <thead>\n",
              "    <tr style=\"text-align: right;\">\n",
              "      <th></th>\n",
              "      <th>CustomerID</th>\n",
              "      <th>Rating</th>\n",
              "      <th>Date</th>\n",
              "    </tr>\n",
              "  </thead>\n",
              "  <tbody>\n",
              "    <tr>\n",
              "      <th>0</th>\n",
              "      <td>4500:</td>\n",
              "      <td>NaN</td>\n",
              "      <td>NaN</td>\n",
              "    </tr>\n",
              "    <tr>\n",
              "      <th>1</th>\n",
              "      <td>2532865</td>\n",
              "      <td>4.0</td>\n",
              "      <td>2005-07-26</td>\n",
              "    </tr>\n",
              "    <tr>\n",
              "      <th>2</th>\n",
              "      <td>573364</td>\n",
              "      <td>3.0</td>\n",
              "      <td>2005-06-20</td>\n",
              "    </tr>\n",
              "    <tr>\n",
              "      <th>3</th>\n",
              "      <td>1696725</td>\n",
              "      <td>3.0</td>\n",
              "      <td>2004-02-27</td>\n",
              "    </tr>\n",
              "    <tr>\n",
              "      <th>4</th>\n",
              "      <td>1253431</td>\n",
              "      <td>3.0</td>\n",
              "      <td>2004-03-31</td>\n",
              "    </tr>\n",
              "  </tbody>\n",
              "</table>\n",
              "</div>"
            ],
            "text/plain": [
              "  CustomerID  Rating        Date\n",
              "0      4500:     NaN         NaN\n",
              "1    2532865     4.0  2005-07-26\n",
              "2     573364     3.0  2005-06-20\n",
              "3    1696725     3.0  2004-02-27\n",
              "4    1253431     3.0  2004-03-31"
            ]
          },
          "metadata": {
            "tags": []
          },
          "execution_count": 15
        }
      ]
    },
    {
      "cell_type": "code",
      "metadata": {
        "id": "1iwU6t-aDq2U",
        "colab_type": "code",
        "colab": {},
        "outputId": "2f9445c0-b6c1-4f74-b6e4-388f2af15e8b"
      },
      "source": [
        "Cd3.head(5)"
      ],
      "execution_count": 0,
      "outputs": [
        {
          "output_type": "execute_result",
          "data": {
            "text/html": [
              "<div>\n",
              "<style scoped>\n",
              "    .dataframe tbody tr th:only-of-type {\n",
              "        vertical-align: middle;\n",
              "    }\n",
              "\n",
              "    .dataframe tbody tr th {\n",
              "        vertical-align: top;\n",
              "    }\n",
              "\n",
              "    .dataframe thead th {\n",
              "        text-align: right;\n",
              "    }\n",
              "</style>\n",
              "<table border=\"1\" class=\"dataframe\">\n",
              "  <thead>\n",
              "    <tr style=\"text-align: right;\">\n",
              "      <th></th>\n",
              "      <th>CustomerID</th>\n",
              "      <th>Rating</th>\n",
              "      <th>Date</th>\n",
              "    </tr>\n",
              "  </thead>\n",
              "  <tbody>\n",
              "    <tr>\n",
              "      <th>0</th>\n",
              "      <td>9211:</td>\n",
              "      <td>NaN</td>\n",
              "      <td>NaN</td>\n",
              "    </tr>\n",
              "    <tr>\n",
              "      <th>1</th>\n",
              "      <td>1277134</td>\n",
              "      <td>1.0</td>\n",
              "      <td>2003-12-02</td>\n",
              "    </tr>\n",
              "    <tr>\n",
              "      <th>2</th>\n",
              "      <td>2435457</td>\n",
              "      <td>2.0</td>\n",
              "      <td>2005-06-01</td>\n",
              "    </tr>\n",
              "    <tr>\n",
              "      <th>3</th>\n",
              "      <td>2338545</td>\n",
              "      <td>3.0</td>\n",
              "      <td>2001-02-17</td>\n",
              "    </tr>\n",
              "    <tr>\n",
              "      <th>4</th>\n",
              "      <td>2218269</td>\n",
              "      <td>1.0</td>\n",
              "      <td>2002-12-27</td>\n",
              "    </tr>\n",
              "  </tbody>\n",
              "</table>\n",
              "</div>"
            ],
            "text/plain": [
              "  CustomerID  Rating        Date\n",
              "0      9211:     NaN         NaN\n",
              "1    1277134     1.0  2003-12-02\n",
              "2    2435457     2.0  2005-06-01\n",
              "3    2338545     3.0  2001-02-17\n",
              "4    2218269     1.0  2002-12-27"
            ]
          },
          "metadata": {
            "tags": []
          },
          "execution_count": 16
        }
      ]
    },
    {
      "cell_type": "code",
      "metadata": {
        "id": "uRKr8fGwDq2X",
        "colab_type": "code",
        "colab": {},
        "outputId": "11799c10-3682-4580-bd80-1518a0fc2b80"
      },
      "source": [
        "Cd4.head(5)"
      ],
      "execution_count": 0,
      "outputs": [
        {
          "output_type": "execute_result",
          "data": {
            "text/html": [
              "<div>\n",
              "<style scoped>\n",
              "    .dataframe tbody tr th:only-of-type {\n",
              "        vertical-align: middle;\n",
              "    }\n",
              "\n",
              "    .dataframe tbody tr th {\n",
              "        vertical-align: top;\n",
              "    }\n",
              "\n",
              "    .dataframe thead th {\n",
              "        text-align: right;\n",
              "    }\n",
              "</style>\n",
              "<table border=\"1\" class=\"dataframe\">\n",
              "  <thead>\n",
              "    <tr style=\"text-align: right;\">\n",
              "      <th></th>\n",
              "      <th>CustomerID</th>\n",
              "      <th>Rating</th>\n",
              "      <th>Date</th>\n",
              "    </tr>\n",
              "  </thead>\n",
              "  <tbody>\n",
              "    <tr>\n",
              "      <th>0</th>\n",
              "      <td>13368:</td>\n",
              "      <td>NaN</td>\n",
              "      <td>NaN</td>\n",
              "    </tr>\n",
              "    <tr>\n",
              "      <th>1</th>\n",
              "      <td>2385003</td>\n",
              "      <td>4.0</td>\n",
              "      <td>2004-07-08</td>\n",
              "    </tr>\n",
              "    <tr>\n",
              "      <th>2</th>\n",
              "      <td>659432</td>\n",
              "      <td>3.0</td>\n",
              "      <td>2005-03-16</td>\n",
              "    </tr>\n",
              "    <tr>\n",
              "      <th>3</th>\n",
              "      <td>751812</td>\n",
              "      <td>2.0</td>\n",
              "      <td>2002-12-16</td>\n",
              "    </tr>\n",
              "    <tr>\n",
              "      <th>4</th>\n",
              "      <td>2625420</td>\n",
              "      <td>2.0</td>\n",
              "      <td>2004-05-25</td>\n",
              "    </tr>\n",
              "  </tbody>\n",
              "</table>\n",
              "</div>"
            ],
            "text/plain": [
              "  CustomerID  Rating        Date\n",
              "0     13368:     NaN         NaN\n",
              "1    2385003     4.0  2004-07-08\n",
              "2     659432     3.0  2005-03-16\n",
              "3     751812     2.0  2002-12-16\n",
              "4    2625420     2.0  2004-05-25"
            ]
          },
          "metadata": {
            "tags": []
          },
          "execution_count": 17
        }
      ]
    },
    {
      "cell_type": "code",
      "metadata": {
        "colab_type": "code",
        "id": "jhGs2d_Jn10W",
        "colab": {}
      },
      "source": [
        "Cd1 = Cd1.dropna(how='any')"
      ],
      "execution_count": 0,
      "outputs": []
    },
    {
      "cell_type": "code",
      "metadata": {
        "id": "xIpZ-rbIDq2d",
        "colab_type": "code",
        "colab": {}
      },
      "source": [
        "Cd2 = Cd2.dropna(how='any')"
      ],
      "execution_count": 0,
      "outputs": []
    },
    {
      "cell_type": "code",
      "metadata": {
        "id": "v3j8PeVZDq2g",
        "colab_type": "code",
        "colab": {}
      },
      "source": [
        "Cd3 = Cd3.dropna(how='any')"
      ],
      "execution_count": 0,
      "outputs": []
    },
    {
      "cell_type": "code",
      "metadata": {
        "id": "QODKsE8BDq2k",
        "colab_type": "code",
        "colab": {}
      },
      "source": [
        "Cd4 = Cd4.dropna(how='any')"
      ],
      "execution_count": 0,
      "outputs": []
    },
    {
      "cell_type": "code",
      "metadata": {
        "colab_type": "code",
        "id": "cy8kcVxMlRAD",
        "outputId": "a60a1b3f-9ce7-47ff-e730-4b1db76b3e93",
        "colab": {
          "base_uri": "https://localhost:8080/",
          "height": 85
        }
      },
      "source": [
        "Cd1.isnull().sum()"
      ],
      "execution_count": 0,
      "outputs": [
        {
          "output_type": "execute_result",
          "data": {
            "text/plain": [
              "CustomerID    0\n",
              "Rating        0\n",
              "Date          0\n",
              "dtype: int64"
            ]
          },
          "metadata": {
            "tags": []
          },
          "execution_count": 22
        }
      ]
    },
    {
      "cell_type": "code",
      "metadata": {
        "id": "2MlrlgYeDq2s",
        "colab_type": "code",
        "colab": {},
        "outputId": "79e31ae5-8b01-44d4-8883-37ed65ac5822"
      },
      "source": [
        "Cd2.isnull().sum()"
      ],
      "execution_count": 0,
      "outputs": [
        {
          "output_type": "execute_result",
          "data": {
            "text/plain": [
              "CustomerID    0\n",
              "Rating        0\n",
              "Date          0\n",
              "dtype: int64"
            ]
          },
          "metadata": {
            "tags": []
          },
          "execution_count": 23
        }
      ]
    },
    {
      "cell_type": "code",
      "metadata": {
        "id": "D90uMZXZDq2v",
        "colab_type": "code",
        "colab": {},
        "outputId": "123766e2-44cd-4507-c2ba-678ffac2f399"
      },
      "source": [
        "Cd3.isnull().sum()"
      ],
      "execution_count": 0,
      "outputs": [
        {
          "output_type": "execute_result",
          "data": {
            "text/plain": [
              "CustomerID    0\n",
              "Rating        0\n",
              "Date          0\n",
              "dtype: int64"
            ]
          },
          "metadata": {
            "tags": []
          },
          "execution_count": 24
        }
      ]
    },
    {
      "cell_type": "code",
      "metadata": {
        "id": "aiMHdY3KDq2y",
        "colab_type": "code",
        "colab": {},
        "outputId": "3055de9f-5d8a-484e-943f-b3270cd83b86"
      },
      "source": [
        "Cd4.isnull().sum()"
      ],
      "execution_count": 0,
      "outputs": [
        {
          "output_type": "execute_result",
          "data": {
            "text/plain": [
              "CustomerID    0\n",
              "Rating        0\n",
              "Date          0\n",
              "dtype: int64"
            ]
          },
          "metadata": {
            "tags": []
          },
          "execution_count": 25
        }
      ]
    },
    {
      "cell_type": "code",
      "metadata": {
        "colab_type": "code",
        "id": "8x-fduQzlbDR",
        "outputId": "e01d7211-06c3-40e6-d4d3-d01de2ac3bd9",
        "colab": {
          "base_uri": "https://localhost:8080/",
          "height": 34
        }
      },
      "source": [
        "Cd1.shape"
      ],
      "execution_count": 0,
      "outputs": [
        {
          "output_type": "execute_result",
          "data": {
            "text/plain": [
              "(24053764, 3)"
            ]
          },
          "metadata": {
            "tags": []
          },
          "execution_count": 26
        }
      ]
    },
    {
      "cell_type": "code",
      "metadata": {
        "id": "Yrs0pBIsDq3J",
        "colab_type": "code",
        "colab": {},
        "outputId": "573388ce-7adb-4876-a5cb-0d62b0629344"
      },
      "source": [
        "Cd2.shape"
      ],
      "execution_count": 0,
      "outputs": [
        {
          "output_type": "execute_result",
          "data": {
            "text/plain": [
              "(26977591, 3)"
            ]
          },
          "metadata": {
            "tags": []
          },
          "execution_count": 27
        }
      ]
    },
    {
      "cell_type": "code",
      "metadata": {
        "id": "hr5Jb-GlDq3Q",
        "colab_type": "code",
        "colab": {},
        "outputId": "48499219-a465-4b53-984e-894bf6f3e851"
      },
      "source": [
        "Cd3.shape"
      ],
      "execution_count": 0,
      "outputs": [
        {
          "output_type": "execute_result",
          "data": {
            "text/plain": [
              "(22601629, 3)"
            ]
          },
          "metadata": {
            "tags": []
          },
          "execution_count": 28
        }
      ]
    },
    {
      "cell_type": "code",
      "metadata": {
        "colab_type": "code",
        "id": "mfk_vkDEpz-V",
        "colab": {},
        "outputId": "7000e7ad-6105-4fce-8065-20be6eadf619"
      },
      "source": [
        "Cd4.shape "
      ],
      "execution_count": 0,
      "outputs": [
        {
          "output_type": "execute_result",
          "data": {
            "text/plain": [
              "(26847523, 3)"
            ]
          },
          "metadata": {
            "tags": []
          },
          "execution_count": 29
        }
      ]
    },
    {
      "cell_type": "markdown",
      "metadata": {
        "id": "HWw1FB5hDq3Z",
        "colab_type": "text"
      },
      "source": [
        "Data Visualization"
      ]
    },
    {
      "cell_type": "code",
      "metadata": {
        "id": "UDbKY7U7Dq3b",
        "colab_type": "code",
        "colab": {},
        "outputId": "6378a68f-eccb-486b-cadb-0c87136a3b80"
      },
      "source": [
        "MT['YEAR'].max()"
      ],
      "execution_count": 0,
      "outputs": [
        {
          "output_type": "execute_result",
          "data": {
            "text/plain": [
              "2005"
            ]
          },
          "metadata": {
            "tags": []
          },
          "execution_count": 30
        }
      ]
    },
    {
      "cell_type": "code",
      "metadata": {
        "id": "ko0zR4xADq3d",
        "colab_type": "code",
        "colab": {},
        "outputId": "da807900-41a0-4587-ee43-ebab91c2dc1a"
      },
      "source": [
        "MT['YEAR'].min()"
      ],
      "execution_count": 0,
      "outputs": [
        {
          "output_type": "execute_result",
          "data": {
            "text/plain": [
              "1896"
            ]
          },
          "metadata": {
            "tags": []
          },
          "execution_count": 31
        }
      ]
    },
    {
      "cell_type": "code",
      "metadata": {
        "id": "MaXrh-vCDq3h",
        "colab_type": "code",
        "colab": {}
      },
      "source": [
        "import matplotlib\n",
        "import matplotlib.pyplot as plt"
      ],
      "execution_count": 0,
      "outputs": []
    },
    {
      "cell_type": "markdown",
      "metadata": {
        "id": "h_60aMprDq3k",
        "colab_type": "text"
      },
      "source": [
        "In order to find the number of movies released on a particular year in the given movie_titles.csv dataset. i did the below code and gave the figure size or other wise the file size becomes too small to analyse."
      ]
    },
    {
      "cell_type": "code",
      "metadata": {
        "id": "yJZ_DPeTDq3l",
        "colab_type": "code",
        "colab": {},
        "outputId": "3947ad1d-862c-415e-a442-5438afb4025b"
      },
      "source": [
        "MT['YEAR'].value_counts().plot(kind='bar', figsize=(20,5) )\n"
      ],
      "execution_count": 0,
      "outputs": [
        {
          "output_type": "execute_result",
          "data": {
            "text/plain": [
              "<matplotlib.axes._subplots.AxesSubplot at 0x7fdaab784a20>"
            ]
          },
          "metadata": {
            "tags": []
          },
          "execution_count": 33
        },
        {
          "output_type": "display_data",
          "data": {
            "image/png": "[encoded data removed]",
            "text/plain": [
              "<Figure size 1440x360 with 1 Axes>"
            ]
          },
          "metadata": {
            "tags": [],
            "needs_background": "light"
          }
        }
      ]
    },
    {
      "cell_type": "code",
      "metadata": {
        "id": "V5sA-n4BDq3p",
        "colab_type": "code",
        "colab": {}
      },
      "source": [
        ""
      ],
      "execution_count": 0,
      "outputs": []
    }
  ]
}